{
 "cells": [
  {
   "cell_type": "code",
   "execution_count": 1,
   "metadata": {
    "colab": {
     "base_uri": "https://localhost:8080/",
     "height": 34
    },
    "id": "W846n63_hLPP",
    "outputId": "914db540-8495-4862-fb10-5b67ba753ce9"
   },
   "outputs": [
    {
     "data": {
      "text/plain": [
       "6"
      ]
     },
     "execution_count": 1,
     "metadata": {},
     "output_type": "execute_result"
    }
   ],
   "source": [
    "# Define a function calls addNumber(x, y) that takes in two number and returns the sum of the two numbers.\n",
    "def addNumber(x, y): \n",
    "\treturn x+y\n",
    "addNumber(2, 4)"
   ]
  },
  {
   "cell_type": "code",
   "execution_count": 2,
   "metadata": {
    "colab": {
     "base_uri": "https://localhost:8080/",
     "height": 34
    },
    "id": "y1oUEicChk3h",
    "outputId": "fb7501c4-d208-4c69-8f50-87a2c43db69d"
   },
   "outputs": [
    {
     "data": {
      "text/plain": [
       "13"
      ]
     },
     "execution_count": 2,
     "metadata": {},
     "output_type": "execute_result"
    }
   ],
   "source": [
    "# Define a function calls subtractNumber(x, y) that takes in two numbers and returns the difference of the two numbers.\n",
    "def subtractNumber(x, y): \n",
    "\treturn x-y\n",
    "subtractNumber(20, 7)"
   ]
  },
  {
   "cell_type": "code",
   "execution_count": 4,
   "metadata": {
    "id": "90043xO_hoXP"
   },
   "outputs": [
    {
     "name": "stdout",
     "output_type": "stream",
     "text": [
      "Please enter the first number : 6\n",
      "Please enter the second number : 45\n",
      "y is greater\n"
     ]
    }
   ],
   "source": [
    "# Write a function getBiggerNumber(x, y) that takes in two numbers as arguments and returns the bigger number.\n",
    "x = eval(input(\"Please enter the first number : \"))\n",
    "y = eval(input(\"Please enter the second number : \"))\n",
    "\n",
    "def getBigger_Number(x,y) :\n",
    "    if x > y:\n",
    "        print(x,\" is greater\")\n",
    "    else:\n",
    "        print(y,\"is greater\")\n",
    "\n",
    "getBigger_Number('x','y')"
   ]
  },
  {
   "cell_type": "code",
   "execution_count": 6,
   "metadata": {
    "id": "LEuXK08HhlCN"
   },
   "outputs": [
    {
     "name": "stdout",
     "output_type": "stream",
     "text": [
      "4.0\n",
      "243.0\n",
      "18.84955592153876\n"
     ]
    }
   ],
   "source": [
    "# Python provides many built-in modules with many useful functions. \n",
    "# One such module is the math module. The math module provides many useful functions such as sqrt(x), pow(x, y), ceil(x), floor(x) etc. \n",
    "# You will need to do a \"import math\" before you are allowed to use the functions within the math module.\n",
    "\n",
    "import math\n",
    "# Calculate the square root of 16 and stores it in the variable a\n",
    "a = math.sqrt(16)\n",
    "print(a)\n",
    "\n",
    "# Calculate 3 to the power of 5 and stores it in the variable b\n",
    "b = math.pow(3,5)\n",
    "print(b)\n",
    "# Calculate area of circle with radius = 3.0 by making use of the math.pi constant and store it in the variable c\n",
    "c = math.pi * 2 * 3.0\n",
    "print(c)"
   ]
  },
  {
   "cell_type": "code",
   "execution_count": 7,
   "metadata": {
    "id": "bG78rHm2hlJr"
   },
   "outputs": [
    {
     "data": {
      "text/plain": [
       "'82.40'"
      ]
     },
     "execution_count": 7,
     "metadata": {},
     "output_type": "execute_result"
    }
   ],
   "source": [
    "# Write a function to convert temperature from Celsius to Fahrenheit scale.\n",
    "# oC to oF Conversion: Multipy by 9, then divide by 5, then add 32.\n",
    "\n",
    "# Note: Return a string of 2 decimal places.\n",
    "# In - Cel2Fah(28.0)\n",
    "# Out - '82.40'\n",
    "# In - Cel2Fah(0.00)\n",
    "# Out - '32.00'\n",
    "\n",
    "# Note: Return a string of 2 decimal places.\n",
    "def Cel2Fah(temp): \n",
    "\tout_temp = ((temp*9)/5)+32\n",
    "\treturn '{:.2f}'.format(out_temp)\n",
    "Cel2Fah(28.0)"
   ]
  },
  {
   "cell_type": "code",
   "execution_count": null,
   "metadata": {
    "colab": {
     "base_uri": "https://localhost:8080/",
     "height": 34
    },
    "id": "zQ05727jhlNX",
    "outputId": "716b0cf6-e215-43bc-a93d-47d800a970b0"
   },
   "outputs": [
    {
     "data": {
      "text/plain": [
       "'27.5'"
      ]
     },
     "execution_count": 4,
     "metadata": {
      "tags": []
     },
     "output_type": "execute_result"
    }
   ],
   "source": [
    "# Write a function to compute the BMI of a person.\n",
    "#     BMI = weight(kg)  /  ( height(m)*height(m) )\n",
    "\n",
    "# Note: Return a string of 1 decimal place.\n",
    "# In - BMI(63, 1.7)\n",
    "# Out - '21.8'\n",
    "# In - BMI(110, 2)\n",
    "# Out - '27.5'\n",
    "\n",
    "def BMI(weight, height): \n",
    "\tout_ind = weight / (height*height)\n",
    "\treturn '{:.1f}'.format(out_ind)\n",
    "BMI(110, 2)"
   ]
  },
  {
   "cell_type": "code",
   "execution_count": 8,
   "metadata": {
    "colab": {
     "base_uri": "https://localhost:8080/",
     "height": 34
    },
    "id": "u7tqOfLrhlRJ",
    "outputId": "99570670-a1ea-488e-bc1f-90b989f09a75"
   },
   "outputs": [
    {
     "data": {
      "text/plain": [
       "51"
      ]
     },
     "execution_count": 8,
     "metadata": {},
     "output_type": "execute_result"
    }
   ],
   "source": [
    "# Write a function percent(value, total) that takes in two numbers as arguments, and returns the percentage value as an integer.\n",
    "# In - percent(46, 90)\n",
    "# Out - 51\n",
    "# In - percent(51, 51)\n",
    "# Out - 100\n",
    "# In - percent(63, 12)\n",
    "# Out - 525\n",
    "\n",
    "def percent(val, total):\n",
    "\treturn int((val*100)/total)\n",
    "\t\n",
    "percent(46, 90)"
   ]
  },
  {
   "cell_type": "code",
   "execution_count": 9,
   "metadata": {
    "colab": {
     "base_uri": "https://localhost:8080/",
     "height": 34
    },
    "id": "w9SJ00dNhlUh",
    "outputId": "565eebcc-3e7d-47cf-a7c7-13a58c42c729"
   },
   "outputs": [
    {
     "data": {
      "text/plain": [
       "5.0"
      ]
     },
     "execution_count": 9,
     "metadata": {},
     "output_type": "execute_result"
    }
   ],
   "source": [
    "# Write a function to compute the hypotenuse given sides a and b of the triangle.\n",
    "# Hint: You can use math.sqrt(x) to compute the square root of x.\n",
    "# In - hypotenuse(3, 4)\n",
    "# Out - 5\n",
    "# In - hypotenuse(5, 12)\n",
    "# Out - 13\n",
    "\n",
    "import math\n",
    "def hypotenuse(a, b): \n",
    "  return math.sqrt(pow(a,2)+pow(b,2))\n",
    "hypotenuse(3, 4)"
   ]
  },
  {
   "cell_type": "code",
   "execution_count": 10,
   "metadata": {
    "id": "wBU4fBqR4es1"
   },
   "outputs": [
    {
     "data": {
      "text/plain": [
       "9"
      ]
     },
     "execution_count": 10,
     "metadata": {},
     "output_type": "execute_result"
    }
   ],
   "source": [
    "# Write a function getSumOfLastDigits() that takes in a list of positive numbers and returns the sum of all the last digits in the list.\n",
    "# getSumOfLastDigits([2, 3, 4])\n",
    "# 9\n",
    "# getSumOfLastDigits([1, 23, 456])\n",
    "# 10\n",
    "def getSumOfLastDigits(numList): \n",
    "\ttotal = 0\n",
    "\tfor num in numList:\n",
    "\t\ttotal = total + int(str(num)[-1])\n",
    "\treturn total\n",
    "getSumOfLastDigits([2, 3, 4])"
   ]
  },
  {
   "cell_type": "code",
   "execution_count": 4,
   "metadata": {
    "id": "aggMb-YL4e01"
   },
   "outputs": [
    {
     "data": {
      "text/plain": [
       "'My name is Lim. My age is secret.'"
      ]
     },
     "execution_count": 4,
     "metadata": {},
     "output_type": "execute_result"
    }
   ],
   "source": [
    "# Write a function that uses a default value.\n",
    "# In - introduce('Lim', 20)\n",
    "# Out - 'My name is Lim. I am 20 years old.'\n",
    "# In - introduce('Ahmad')\n",
    "# Out - 'My name is Ahmad. My age is secret.'\n",
    "\n",
    "def introduce(name, age=0):\n",
    "    msg = \"My name is %s. \" % name\n",
    "    if age == 0:\n",
    "       msg += \"My age is secret.\"\n",
    "    else:\n",
    "       msg += \"I am {} years old.\".format(age)\n",
    "    return msg \n",
    "introduce('Lim')"
   ]
  },
  {
   "cell_type": "code",
   "execution_count": 12,
   "metadata": {
    "id": "1LTu-wlF4e4Q"
   },
   "outputs": [
    {
     "data": {
      "text/plain": [
       "False"
      ]
     },
     "execution_count": 12,
     "metadata": {},
     "output_type": "execute_result"
    }
   ],
   "source": [
    "# Write a function isEquilateral(x, y, z) that accepts the 3 sides of a triangle as arguments. \n",
    "# The program should return True if it is an equilateral triangle.\n",
    "\n",
    "# In - isEquilateral(2, 4, 3)\n",
    "# False - False\n",
    "# In - isEquilateral(3, 3, 3)\n",
    "# Out - True\n",
    "# In - isEquilateral(-3, -3, -3)\n",
    "# Out - False\n",
    "\n",
    "def isEquilateral(x, y, z): \n",
    "\tif x>0 and y>0 and z>0:\n",
    "\t\treturn True if x==y==z else False\n",
    "\telse:\n",
    "\t\treturn False\n",
    "isEquilateral(2, 4, 3)"
   ]
  },
  {
   "cell_type": "code",
   "execution_count": 13,
   "metadata": {
    "colab": {
     "base_uri": "https://localhost:8080/",
     "height": 34
    },
    "id": "zHPpeINx4e-t",
    "outputId": "64294ae0-75fa-423a-ed2f-e1680185bac7"
   },
   "outputs": [
    {
     "data": {
      "text/plain": [
       "'The discriminant is -8.'"
      ]
     },
     "execution_count": 13,
     "metadata": {},
     "output_type": "execute_result"
    }
   ],
   "source": [
    "# For a quadratic equation in the form of ax2+bx+c, the discriminant, D is b2-4ac. Write a function to compute the discriminant, D.\n",
    "# In - quadratic(1, 2, 3)\n",
    "# Out - 'The discriminant is -8.'\n",
    "# In - quadratic(1, 3, 2)\n",
    "# Out - 'The discriminant is 1.'\n",
    "# In - quadratic(1, 4, 4)\n",
    "# Out - 'The discriminant is 0.'\n",
    "\n",
    "def quadratic(a, b, c): \n",
    "\treturn \"The discriminant is {}.\".format((b*b) - (4*a*c))\n",
    "quadratic(1, 2, 3)"
   ]
  },
  {
   "cell_type": "code",
   "execution_count": 14,
   "metadata": {
    "colab": {
     "base_uri": "https://localhost:8080/",
     "height": 34
    },
    "id": "zOB5JveI4fCH",
    "outputId": "3fed47d3-bdf4-48e3-85ba-cdbee8ca7d5d"
   },
   "outputs": [
    {
     "data": {
      "text/plain": [
       "0"
      ]
     },
     "execution_count": 14,
     "metadata": {},
     "output_type": "execute_result"
    }
   ],
   "source": [
    "# Define a function calls addFirstAndLast(x) that takes in a list of numbers and returns the sum of the first and last numbers.\n",
    "# In - addFirstAndLast([])\n",
    "# Out - 0\n",
    "# In - addFirstAndLast([2, 7, 3])\n",
    "# Out - 5\n",
    "# In - addFirstAndLast([10])\n",
    "# Out - 10\n",
    "\n",
    "def addFirstAndLast(x): \n",
    "\tif not x: \n",
    "\t\treturn 0\n",
    "\telif len(x) == 1:\n",
    "\t\treturn x[0]\n",
    "\telse:\n",
    "\t\treturn x[0]+x[-1]\n",
    "addFirstAndLast([])"
   ]
  },
  {
   "cell_type": "code",
   "execution_count": 18,
   "metadata": {
    "id": "24sED7Te4fF4"
   },
   "outputs": [
    {
     "data": {
      "text/plain": [
       "<function __main__.<lambda>(x)>"
      ]
     },
     "execution_count": 18,
     "metadata": {},
     "output_type": "execute_result"
    }
   ],
   "source": [
    "# Complete the 'lambda' expression so that it returns True if the argument is an even number, and False otherwise.\n",
    "even = lambda x: True if x%2 == 0 else False\n",
    "even"
   ]
  },
  {
   "cell_type": "code",
   "execution_count": 17,
   "metadata": {
    "id": "ZGi-WmIH4fI4"
   },
   "outputs": [
    {
     "data": {
      "text/plain": [
       "<function __main__.getScore(data)>"
      ]
     },
     "execution_count": 17,
     "metadata": {},
     "output_type": "execute_result"
    }
   ],
   "source": [
    "# getScore.__doc__\n",
    "# 'A function that computes and returns the final score.'\n",
    "\n",
    "def getScore(data):\n",
    "\t'''A function that computes and returns the final score.'''\n",
    "\treturn score \n",
    "getScore"
   ]
  },
  {
   "cell_type": "code",
   "execution_count": 5,
   "metadata": {
    "id": "_TyZkfM-4fNe"
   },
   "outputs": [
    {
     "name": "stdout",
     "output_type": "stream",
     "text": [
      "25\n",
      "100\n",
      "1\n"
     ]
    }
   ],
   "source": [
    "# In Python, it is possible to pass a function as a argument to another function. \n",
    "# Write a function useFunction(func, num) that takes in a function and a number as arguments. \n",
    "# The useFunction should produce the output shown in the examples given below.\n",
    "\n",
    "# def addOne(x):\n",
    "#   return x + 1\n",
    "# useFunction(addOne, 4)\n",
    "# 25\n",
    "# useFunction(addOne, 9)\n",
    "# 100\n",
    "# useFunction(addOne, 0)\n",
    "# 1\n",
    "\n",
    "def addOne(x):\n",
    "    return x+1 \n",
    "\n",
    "def useFunction(func, num):\n",
    "    a1 = func(num) ** 2\n",
    "    print(a1)\n",
    "\n",
    "\n",
    "\n",
    "useFunction(addOne, 4)\n",
    "useFunction(addOne, 9)\n",
    "useFunction(addOne, 0)\n",
    "    "
   ]
  },
  {
   "cell_type": "code",
   "execution_count": 17,
   "metadata": {},
   "outputs": [
    {
     "name": "stdout",
     "output_type": "stream",
     "text": [
      "9 is the greatest num\n",
      "Enter the first num = 5\n",
      "Enter the second num = 6\n",
      "Enter the third num = 8\n",
      "8 is the greatest num\n"
     ]
    }
   ],
   "source": [
    "# Write a function find_max that accepts three numbers as arguments and returns the largest number among three. \n",
    "# Write another function main, in main() function accept three numbers from user and call find_max.\n",
    "\n",
    "def find_max(num1,num2,num3):\n",
    "    if num1>num2 and num1>num3:\n",
    "        return f\"{num1} is the greatest num\"\n",
    "    elif num2>num3:      \n",
    "            return f\"{num2} is the greatest num\"      \n",
    "    else:\n",
    "        return f\"{num3} is the greatest num\"\n",
    "    \n",
    "    \n",
    "     \n",
    "print(find_max(5,6,9))\n",
    "\n",
    "def main():\n",
    "    num1 = int(input(\"Enter the first num = \"))\n",
    "    num2 = int(input(\"Enter the second num = \"))\n",
    "    num3 = int(input(\"Enter the third num = \"))\n",
    "    print(find_max(num1,num2,num3))\n",
    "    \n",
    "    \n",
    "main()    \n",
    "    \n",
    "    "
   ]
  },
  {
   "cell_type": "code",
   "execution_count": 27,
   "metadata": {},
   "outputs": [
    {
     "name": "stdout",
     "output_type": "stream",
     "text": [
      "Enter a text: aeijnknn\n",
      "Number of vowels are 3\n"
     ]
    }
   ],
   "source": [
    "# Write a function, is_vowel that returns the value true if a given character is a vowel, \n",
    "# and otherwise returns false. \n",
    "# Write another function main, in main() function accept a string from user and count number \n",
    "# of vowels in that string.\n",
    "\n",
    "def is_vowel(letter):\n",
    "    if letter in 'aeiouAEIOU':\n",
    "        return True\n",
    "    else:\n",
    "        return False\n",
    "\n",
    "def main():\n",
    "    count = 0\n",
    "    string = input('Enter a text: ')\n",
    "    for char in string:\n",
    "        if is_vowel(char):\n",
    "            count += 1\n",
    "\n",
    "    print('Number of vowels are', count)\n",
    "\n",
    "main()"
   ]
  },
  {
   "cell_type": "code",
   "execution_count": 29,
   "metadata": {},
   "outputs": [
    {
     "name": "stdout",
     "output_type": "stream",
     "text": [
      "True\n",
      "2 3 5 7 11 13 17 19 23 29 31 37 41 43 47 53 59 61 67 71 73 79 83 89 97 101 103 107 109 113 127 131 137 139 149 151 157 163 167 173 179 181 191 193 197 199 211 223 227 229 233 239 241 251 257 263 269 271 277 281 283 293 307 311 313 317 331 337 347 349 353 359 367 373 379 383 389 397 401 409 419 421 431 433 439 443 449 457 461 463 467 479 487 491 499 "
     ]
    }
   ],
   "source": [
    "# Write a function named is_prime, which takes an integer as an argument and returns true if the argument \n",
    "# is a prime number, or false otherwise. \n",
    "# Also, write the main function that displays prime numbers between 1 to 500.\n",
    "\n",
    "def is_prime(number):\n",
    "    for i in range(2,number):\n",
    "        if number%i == 0:\n",
    "            return False\n",
    "    return True\n",
    "\n",
    "print(is_prime(5))\n",
    "\n",
    "def main():\n",
    "    for num in range(2,501):\n",
    "        if is_prime(num):\n",
    "            print(num, end=\" \")\n",
    "\n",
    "main()"
   ]
  },
  {
   "cell_type": "code",
   "execution_count": 33,
   "metadata": {},
   "outputs": [
    {
     "name": "stdout",
     "output_type": "stream",
     "text": [
      "Enter the list of numbers: [2,3,4]\n",
      "99\n"
     ]
    }
   ],
   "source": [
    "# Write a function in python to find the sum of the cube of elements in a list. \n",
    "# The list is received as an argument to the function, in turn, the function must return the sum. \n",
    "# Write the main function which invokes the above function.\n",
    "\n",
    "def sum_of_cube(numbers):\n",
    "    total = 0\n",
    "    for num in numbers:\n",
    "        total += num**3\n",
    "    return total\n",
    "\n",
    "\n",
    "\n",
    "def main():\n",
    "    numbers = eval(input(\"Enter the list of numbers: \"))\n",
    "    result = sum_of_cube(numbers)\n",
    "    print(result)\n",
    "\n",
    "main()"
   ]
  },
  {
   "cell_type": "code",
   "execution_count": 34,
   "metadata": {},
   "outputs": [
    {
     "name": "stdout",
     "output_type": "stream",
     "text": [
      "600\n"
     ]
    }
   ],
   "source": [
    "# Write the definition of a function zero_ending(scores) to add all those values in the list of scores, \n",
    "# which are ending with zero and display the sum.\n",
    "# For example: If the scores contain [200, 456, 300, 100, 234, 678] The sum should be displayed as 600.\n",
    "\n",
    "def zero_ending(scores):\n",
    "    total = 0\n",
    "    for num in scores:\n",
    "        if num%10 == 0:\n",
    "            total += num\n",
    "    return total\n",
    "\n",
    "scores =  [200, 456, 300, 100, 234, 678]\n",
    "s = zero_ending(scores)\n",
    "print(s)"
   ]
  },
  {
   "cell_type": "code",
   "execution_count": 35,
   "metadata": {},
   "outputs": [
    {
     "name": "stdout",
     "output_type": "stream",
     "text": [
      "LONDON\n",
      "NEW YORK\n"
     ]
    }
   ],
   "source": [
    "# Write a definition of a method count_now(places) to find and display those place names, \n",
    "# in which there are more than 5 characters.\n",
    "\n",
    "# For example :\n",
    "# If the list places contains\n",
    "# [\"DELHI\",\"LONDON\",\"PARIS\",\"NEW YORK\",\"DUBAI\"]\n",
    "# The following should get displayed :\n",
    "# LONDON\n",
    "# NEW YORK\n",
    "\n",
    "def count_now(places):\n",
    "    for place in places:\n",
    "        if len(place) > 5:\n",
    "            print(place)\n",
    "\n",
    "places = [\"DELHI\",\"LONDON\",\"PARIS\",\"NEW YORK\",\"DUBAI\"]\n",
    "count_now(places)\n"
   ]
  },
  {
   "cell_type": "code",
   "execution_count": 45,
   "metadata": {},
   "outputs": [
    {
     "name": "stdout",
     "output_type": "stream",
     "text": [
      "414141\n",
      "DROND#\n",
      "GIRIRAJ#\n",
      "131313\n",
      "ZARA#\n"
     ]
    }
   ],
   "source": [
    "# Write a method in python to display the elements of list thrice if it is a number and display \n",
    "# the element terminated with ‘#’ if it is not a number.\n",
    "\n",
    "# For example, if the content of list is as follows :\n",
    "# ThisList=[‘41’,‘DROND’,‘GIRIRAJ’, ‘13’,‘ZARA’]\n",
    "# The output should be\n",
    "# 414141\n",
    "# DROND#\n",
    "# GIRIRAJ#\n",
    "# 131313\n",
    "# ZARA#\n",
    "\n",
    "def func(mylist):\n",
    "    for i in mylist:\n",
    "        if i.isdigit():\n",
    "            print(i*3)\n",
    "        else:\n",
    "            print(i+'#')\n",
    "\n",
    "mylist = ['41','DROND','GIRIRAJ', '13','ZARA']\n",
    "func(mylist)\n"
   ]
  },
  {
   "cell_type": "code",
   "execution_count": 1,
   "metadata": {},
   "outputs": [
    {
     "name": "stdout",
     "output_type": "stream",
     "text": [
      "[50, 60, 70, 40, 10, 20, 30]\n"
     ]
    }
   ],
   "source": [
    "# Write a function half_and_half that takes in a list and change the list \n",
    "# such that the elements of the second half are now in the first half.\n",
    "\n",
    "# For example, if the size of list is even and content of list is as follows :\n",
    "# my_liist = [10,20,30,40,50,60]\n",
    "# The output should be\n",
    "# [40,50,60,10,20,30]\n",
    "# if the size of list is odd and content of list is as follows :\n",
    "# my_liist = [10,20,30,40,50,60,70]\n",
    "# The output should be\n",
    "# [50,60,70,40,10,20,30]\n",
    "\n",
    "def half_and_half(my_list):\n",
    "    if len(my_list)%2 == 0:\n",
    "        start = 0\n",
    "    else:\n",
    "        start = 1\n",
    "        \n",
    "    L = len(my_list)//2\n",
    "    \n",
    "    for i in range(L):\n",
    "        temp = my_list[i]\n",
    "        my_list[i] = my_list[i+L+start]\n",
    "        my_list[i+L+start] = temp\n",
    "\n",
    "my_list = [10,20,30,40,50,60,70]\n",
    "half_and_half(my_list)\n",
    "print(my_list)"
   ]
  },
  {
   "cell_type": "code",
   "execution_count": 2,
   "metadata": {},
   "outputs": [
    {
     "name": "stdout",
     "output_type": "stream",
     "text": [
      "{'a': 10, 'b': 20, 'c': 20}\n",
      "{}\n",
      "{'a': 10, 'b': 20, 'c': 30}\n",
      "{10: 'a', 20: 'b', 30: 'c'}\n"
     ]
    }
   ],
   "source": [
    "# Write a function that accepts a dictionary as an argument. If the dictionary contains replicate values, \n",
    "# return an empty dictionary, otherwise, return a new dictionary whose values are now the keys and whose \n",
    "# keys are the values.\n",
    "\n",
    "def swap_key_value(d):\n",
    "    L = list(d.values())\n",
    "    for value in L:\n",
    "        if L.count(value) > 1:\n",
    "            return dict()\n",
    "\n",
    "    new_dict = {}\n",
    "    for k, v in d.items():\n",
    "        new_dict[v] = k\n",
    "    return new_dict\n",
    "\n",
    "\n",
    "d = {'a':10,'b':20,'c':20}\n",
    "print(d)\n",
    "n = swap_key_value(d)\n",
    "print(n)\n",
    "\n",
    "d = {'a':10,'b':20,'c':30}\n",
    "print(d)\n",
    "n = swap_key_value(d)\n",
    "print(n)\n"
   ]
  },
  {
   "cell_type": "code",
   "execution_count": null,
   "metadata": {},
   "outputs": [],
   "source": []
  }
 ],
 "metadata": {
  "colab": {
   "name": "Sol_function",
   "provenance": []
  },
  "kernelspec": {
   "display_name": "Python 3 (ipykernel)",
   "language": "python",
   "name": "python3"
  },
  "language_info": {
   "codemirror_mode": {
    "name": "ipython",
    "version": 3
   },
   "file_extension": ".py",
   "mimetype": "text/x-python",
   "name": "python",
   "nbconvert_exporter": "python",
   "pygments_lexer": "ipython3",
   "version": "3.9.13"
  }
 },
 "nbformat": 4,
 "nbformat_minor": 1
}
