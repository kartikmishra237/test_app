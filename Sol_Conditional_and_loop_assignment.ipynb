{
 "cells": [
  {
   "cell_type": "markdown",
   "metadata": {
    "id": "wNRNTbrsc53d"
   },
   "source": [
    "# If - elif - else statement"
   ]
  },
  {
   "cell_type": "code",
   "execution_count": 1,
   "metadata": {
    "colab": {
     "base_uri": "https://localhost:8080/"
    },
    "executionInfo": {
     "elapsed": 6061,
     "status": "ok",
     "timestamp": 1612100607725,
     "user": {
      "displayName": "Abhishek Gupta",
      "photoUrl": "",
      "userId": "01308143559053085164"
     },
     "user_tz": -330
    },
    "id": "MiPfTnBycxNa",
    "outputId": "4d2833d2-0cb6-4f13-c279-25eded5577ef"
   },
   "outputs": [
    {
     "name": "stdout",
     "output_type": "stream",
     "text": [
      "Enter a number: 5\n",
      "Five\n",
      "\n",
      " ---------- \n",
      "\n"
     ]
    }
   ],
   "source": [
    "#W. A P. which takes one number from 0 to 9 from the user and prints it in the word. And if the word is not from 0 to 9 then\n",
    "#it should print that number is outside of the range and program should exit.\n",
    "# For exapmple:- \n",
    "# input = 1\n",
    "# output = one\n",
    "\n",
    "num = int(input('Enter a number: '))\n",
    "if num == 0:\n",
    "  print('Zero')\n",
    "elif num ==1:\n",
    "  print('One')\n",
    "elif num ==2:\n",
    "  print('Two')\n",
    "elif num ==4:\n",
    "  print('Four')\n",
    "elif num ==5:\n",
    "  print('Five')\n",
    "elif num ==6:\n",
    "  print('Six')\n",
    "elif num ==7:\n",
    "  print('Seven')\n",
    "elif num ==8:\n",
    "  print('Eight')\n",
    "elif num ==9:\n",
    "  print('Nine')\n",
    "else:\n",
    "  print('Number is outside the range!!!')\n",
    "\n",
    "\n",
    "print(\"\\n ---------- \\n\")\n",
    "\n",
    "# another method\n",
    "\n"
   ]
  },
  {
   "cell_type": "code",
   "execution_count": 1,
   "metadata": {
    "colab": {
     "base_uri": "https://localhost:8080/",
     "height": 504
    },
    "executionInfo": {
     "elapsed": 11786,
     "status": "error",
     "timestamp": 1612163792408,
     "user": {
      "displayName": "Abhishek Gupta",
      "photoUrl": "",
      "userId": "01308143559053085164"
     },
     "user_tz": -330
    },
    "id": "vEMNOv9zdA39",
    "outputId": "e713ae2f-b3c8-46e6-a425-3c331f6ea4cb"
   },
   "outputs": [
    {
     "name": "stdout",
     "output_type": "stream",
     "text": [
      "Enter 1st number: 5\n",
      "Enter 2nd number: 6\n",
      "Please select any one operation from below:-\n",
      "\n",
      "  \tTo add enter 1\n",
      "\n",
      "  \tTo subtract enter 2\n",
      "\n",
      "  \tTo multiply enter 3\n",
      "\n",
      "  \tTo divide enter 4\n",
      "\n",
      "  \tTo divide and find quotient enter 5\n",
      "\n",
      "  \tTo divide and find remainder enter 6\n",
      "\n",
      "  \tTo divide and find num1 to the power of num2 enter 7\n",
      "\n",
      "  \tTo exit Enter 8\n",
      "\n",
      "  1\n",
      "11\n"
     ]
    }
   ],
   "source": [
    "#W. A P. to implement calculator but the operation to be done and two numbers will be taken as input from user:-\n",
    "#Operation console should show below:-\n",
    "#     Please select any one operation from below:-\n",
    "#         * To add enter 1\n",
    "#         * to subtract enter 2\n",
    "#         * To multiply enter 3\n",
    "#         * To divide enter 4\n",
    "#         * To divide and find quotient enter 5\n",
    "#         * To divide and find remainder enter 6\n",
    "#         * To divide and find num1 to the power of num2 enter 7\n",
    "#         * To Come out of the program enter 8\n",
    "import sys\n",
    "num1 = int(input('Enter 1st number: '))\n",
    "num2 = int(input('Enter 2nd number: '))\n",
    "\n",
    "op = int(input('''Please select any one operation from below:-\\n\n",
    "  \\tTo add enter 1\\n\n",
    "  \\tTo subtract enter 2\\n\n",
    "  \\tTo multiply enter 3\\n\n",
    "  \\tTo divide enter 4\\n\n",
    "  \\tTo divide and find quotient enter 5\\n\n",
    "  \\tTo divide and find remainder enter 6\\n\n",
    "  \\tTo divide and find num1 to the power of num2 enter 7\\n\n",
    "  \\tTo exit Enter 8\\n\n",
    "  '''))\n",
    "if op == 1:\n",
    "    print(num1+num2)\n",
    "elif op == 2:\n",
    "    print(num1-num2)\n",
    "elif op == 3:\n",
    "    print(num1*num2)\n",
    "elif op == 4:\n",
    "    print(num1/num2)\n",
    "elif op == 5:\n",
    "    print(num1//num2)\n",
    "elif op == 6:\n",
    "    print(num1%num2)  \n",
    "elif op == 7:\n",
    "    print(num1**num2)\n",
    "elif op == 8:\n",
    "    sys.exit(0)\n",
    "else:\n",
    "    print('wrong input\\nTry Again\\n\\n')"
   ]
  },
  {
   "cell_type": "code",
   "execution_count": 6,
   "metadata": {},
   "outputs": [
    {
     "name": "stdout",
     "output_type": "stream",
     "text": [
      "\n",
      "Please type in the math operation you would like to complete:\n",
      "+ for addition\n",
      "- for subtraction\n",
      "* for multiplication\n",
      "/ for division\n",
      "*\n",
      "Enter your first number: 6\n",
      "Enter your second number: 4\n",
      "6 * 4 = \n",
      "24\n"
     ]
    }
   ],
   "source": [
    "# Another method\n",
    "\n",
    "operation = input('''\n",
    "Please type in the math operation you would like to complete:\n",
    "+ for addition\n",
    "- for subtraction\n",
    "* for multiplication\n",
    "/ for division\n",
    "''')\n",
    "\n",
    "number_1 = int(input('Enter your first number: '))\n",
    "number_2 = int(input('Enter your second number: '))\n",
    "\n",
    "if operation == '+':\n",
    "    print('{} + {} = '.format(number_1, number_2))\n",
    "    print(number_1 + number_2)\n",
    "\n",
    "elif operation == '-':\n",
    "    print('{} - {} = '.format(number_1, number_2))\n",
    "    print(number_1 - number_2)\n",
    "\n",
    "elif operation == '*':\n",
    "    print('{} * {} = '.format(number_1, number_2))\n",
    "    print(number_1 * number_2)\n",
    "\n",
    "elif operation == '/':\n",
    "    print('{} / {} = '.format(number_1, number_2))\n",
    "    print(number_1 / number_2)\n",
    "\n",
    "else:\n",
    "    print('You have not typed a valid operator, please run the program again.')\n"
   ]
  },
  {
   "cell_type": "code",
   "execution_count": 7,
   "metadata": {},
   "outputs": [
    {
     "name": "stdout",
     "output_type": "stream",
     "text": [
      "\n",
      "Please type in the math operation you would like to complete:\n",
      "+ for addition\n",
      "- for subtraction\n",
      "* for multiplication\n",
      "/ for division\n",
      "+\n",
      "Please enter the first number: 1\n",
      "Please enter the second number: 2\n",
      "1 + 2 = \n",
      "3\n",
      "\n",
      "Do you want to calculate again?\n",
      "Please type Y for YES or N for NO.\n",
      "y\n",
      "\n",
      "Please type in the math operation you would like to complete:\n",
      "+ for addition\n",
      "- for subtraction\n",
      "* for multiplication\n",
      "/ for division\n",
      "-2\n",
      "Please enter the first number: 2\n",
      "Please enter the second number: 3\n",
      "You have not typed a valid operator, please run the program again.\n",
      "\n",
      "Do you want to calculate again?\n",
      "Please type Y for YES or N for NO.\n",
      "n\n",
      "See you later.\n"
     ]
    }
   ],
   "source": [
    "# Using DEF function\n",
    "\n",
    "def calculate():\n",
    "    operation = input('''\n",
    "Please type in the math operation you would like to complete:\n",
    "+ for addition\n",
    "- for subtraction\n",
    "* for multiplication\n",
    "/ for division\n",
    "''')\n",
    "\n",
    "    number_1 = int(input('Please enter the first number: '))\n",
    "    number_2 = int(input('Please enter the second number: '))\n",
    "\n",
    "    if operation == '+':\n",
    "        print('{} + {} = '.format(number_1, number_2))\n",
    "        print(number_1 + number_2)\n",
    "\n",
    "    elif operation == '-':\n",
    "        print('{} - {} = '.format(number_1, number_2))\n",
    "        print(number_1 - number_2)\n",
    "\n",
    "    elif operation == '*':\n",
    "        print('{} * {} = '.format(number_1, number_2))\n",
    "        print(number_1 * number_2)\n",
    "\n",
    "    elif operation == '/':\n",
    "        print('{} / {} = '.format(number_1, number_2))\n",
    "        print(number_1 / number_2)\n",
    "\n",
    "    else:\n",
    "        print('You have not typed a valid operator, please run the program again.')\n",
    "\n",
    "    # Add again() function to calculate() function\n",
    "    again()\n",
    "\n",
    "def again():\n",
    "    calc_again = input('''\n",
    "Do you want to calculate again?\n",
    "Please type Y for YES or N for NO.\n",
    "''')\n",
    "\n",
    "    if calc_again.upper() == 'Y':\n",
    "        calculate()\n",
    "    elif calc_again.upper() == 'N':\n",
    "        print('See you later.')\n",
    "    else:\n",
    "        again()\n",
    "\n",
    "calculate()\n"
   ]
  },
  {
   "cell_type": "code",
   "execution_count": 14,
   "metadata": {
    "id": "1e2gwYLqdC1s"
   },
   "outputs": [
    {
     "name": "stdout",
     "output_type": "stream",
     "text": [
      "Enter year to be checked:1971\n",
      "The year isn't a leap year\n"
     ]
    }
   ],
   "source": [
    "#W A P to check whether a year entered by user is an leap year or not?\n",
    "#Check with below input:-\n",
    "    #leap year:- 2012, 1968, 2004, 1200, 1600,2400\n",
    "    #Non-lear year:- 1971, 2006, 1700,1800,1900\n",
    "\n",
    "# Using IF and Else \n",
    "\n",
    "year=int(input(\"Enter year to be checked:\"))\n",
    "if(year%4==0 and year%100!=0 or year%400==0):\n",
    "    print(\"The year is a leap year\")\n",
    "else:\n",
    "    print(\"The year isn't a leap year\")"
   ]
  },
  {
   "cell_type": "code",
   "execution_count": 3,
   "metadata": {},
   "outputs": [
    {
     "name": "stdout",
     "output_type": "stream",
     "text": [
      "Enter a year: 1800\n",
      "1800 is not a leap year\n"
     ]
    }
   ],
   "source": [
    "# Python program to check if year is a leap year or not\n",
    "\n",
    "# To get year (integer input) from the user\n",
    "year = int(input(\"Enter a year: \"))\n",
    "\n",
    "# divided by 100 means century year (ending with 00)\n",
    "# century year divided by 400 is leap year\n",
    "if (year % 400 == 0) and (year % 100 == 0):\n",
    "    print(\"{0} is a leap year\".format(year))\n",
    "\n",
    "# not divided by 100 means not a century year\n",
    "# year divided by 4 is a leap year\n",
    "elif (year % 4 ==0) and (year % 100 != 0):\n",
    "    print(\"{0} is a leap year\".format(year))\n",
    "\n",
    "# if not divided by both 400 (century year) and 4 (not century year)\n",
    "# year is not leap year\n",
    "else:\n",
    "    print(\"{0} is not a leap year\".format(year))"
   ]
  },
  {
   "cell_type": "code",
   "execution_count": 21,
   "metadata": {
    "id": "_tpXv1EtdEre"
   },
   "outputs": [
    {
     "name": "stdout",
     "output_type": "stream",
     "text": [
      "Enter any number to test whether it is odd or even: 5\n",
      "The provided number is odd\n"
     ]
    }
   ],
   "source": [
    "#W A P which takes one number from the user and checks whether it is an even or odd number?, If it even then prints number is \n",
    "#even number else prints that number is odd number.\n",
    "\n",
    "# Using modolus method\n",
    "num = int(input(\"Enter any number to test whether it is odd or even: \"))\n",
    "if (num % 2) == 0:\n",
    "              print (\"The number is even\")\n",
    "else:\n",
    "              print (\"The provided number is odd\")"
   ]
  },
  {
   "cell_type": "code",
   "execution_count": 24,
   "metadata": {
    "id": "Q1HumymCdG6i"
   },
   "outputs": [
    {
     "name": "stdout",
     "output_type": "stream",
     "text": [
      "Please enter the first number :2\n",
      "Please enter the first number :5\n",
      "\n",
      " The second number is greater that the first \n",
      "\n",
      "Please enter the first number :6\n",
      "Please enter the second number :4\n",
      "Please enter the third number :6\n",
      "Largest number among 6 , 4 and 6 is 6\n"
     ]
    }
   ],
   "source": [
    "#W A P which takes two numbers from the user and prints below output:-\n",
    "#     1. num1 is greater than num2 if num1 is greater than num2\n",
    "#     2. num1 is smaller than num2 if num1 is smaller than num2\n",
    "#     3. num1 is equal to num2 if num1 and num2 are equal\n",
    "\n",
    "#Note:- 1. Do this problem using if - else \n",
    "#       2. Do this using ternary operator\n",
    "num_1 = int(input(\"Please enter the first number :\"))\n",
    "num_2 = int(input(\"Please enter the first number :\"))\n",
    "\n",
    "# condition 1 using if - else method\n",
    "if num_1 > num_2:\n",
    "    print(\"\\n The first number is greater that the second \\n\")\n",
    "elif num_1 < num_2:\n",
    "    print(\"\\n The second number is greater that the first \\n\")\n",
    "else: print(\" Both the numbers are equal\")\n",
    "    \n"
   ]
  },
  {
   "cell_type": "code",
   "execution_count": 5,
   "metadata": {},
   "outputs": [
    {
     "name": "stdout",
     "output_type": "stream",
     "text": [
      "Please enter the first number :44\n",
      "Please enter the second number :45\n",
      "45\n"
     ]
    }
   ],
   "source": [
    "# Using Ternary operator\n",
    "\n",
    "n1 = int(input(\"Please enter the first number :\"))\n",
    "n2 = int(input(\"Please enter the second number :\"))\n",
    " \n",
    "mx = n1 if n1 > n2 else n2\n",
    "\n",
    "print(mx)\n",
    " "
   ]
  },
  {
   "cell_type": "code",
   "execution_count": 1,
   "metadata": {
    "id": "LR6TVB-DdOPf"
   },
   "outputs": [
    {
     "name": "stdout",
     "output_type": "stream",
     "text": [
      "Please enter the first number :56\n",
      "Please enter the second number :45\n",
      "Please enter the third number :68\n",
      "68\n"
     ]
    }
   ],
   "source": [
    "#W A P which takes three numbers from the user and prints below output:-\n",
    "#     1. num1 is greater than num2 and num3 if num1 is greater than num2 and num3\n",
    "#     2. num2 is greater than num1 and num3 if num2 is greater than num1 and num3\n",
    "#     3. num3 is greater than num1 and num2 if num3 is greater than num1 and num2\n",
    "\n",
    "#Note:- 1. Do this problem using if - elif - else \n",
    "#       2. Do this using ternary operator\n",
    "\n",
    "# a = a if a>b else b\n",
    "#expr if cond1 else expr2 if cond2 else expr3\n",
    "\n",
    "\n",
    "n1 = int(input(\"Please enter the first number :\"))\n",
    "n2 = int(input(\"Please enter the second number :\"))\n",
    "n3 = int(input(\"Please enter the third number :\"))\n",
    " \n",
    "mx = (n1 if (n1 > n2 and n1 > n3) else\n",
    "     (n2 if (n2 > n1 and n2 > n3) else n3))\n",
    "\n",
    "print(mx)\n",
    "\n"
   ]
  },
  {
   "cell_type": "markdown",
   "metadata": {
    "id": "IoOLQMUGdSox"
   },
   "source": [
    "# Loops - for loop, while loop"
   ]
  },
  {
   "cell_type": "code",
   "execution_count": 10,
   "metadata": {
    "id": "9K23Uld8dQfA"
   },
   "outputs": [
    {
     "name": "stdout",
     "output_type": "stream",
     "text": [
      "Length of the input string is: 55\n"
     ]
    }
   ],
   "source": [
    "#Write a Python program to find the length of the my_str using loop:-\n",
    "\n",
    "#Input:- 'Write a Python program to find the length of the my_str'\n",
    "#Output:- 55\n",
    "\n",
    "my_str = \"Write a Python program to find the length of the my_str\"\n",
    "\n",
    "counter = 0\n",
    "for i in my_str:\n",
    "      counter = counter+1\n",
    "print(\"Length of the input string is:\", counter)"
   ]
  },
  {
   "cell_type": "code",
   "execution_count": 14,
   "metadata": {
    "id": "bp6AcqTsdYxy"
   },
   "outputs": [
    {
     "name": "stdout",
     "output_type": "stream",
     "text": [
      "Count of p in my_str is : 9\n"
     ]
    }
   ],
   "source": [
    "#Write a Python program to find the total number of times letter 'p' is appeared in the below string using loop:-\n",
    "    \n",
    "#Input:- 'peter piper picked a peck of pickled peppers.\\n'\n",
    "#Output:- 9\n",
    "\n",
    "my_str = 'peter piper picked a peck of pickled peppers.\\n'\n",
    "count = 0\n",
    "for i in my_str:\n",
    "    if i == 'p':\n",
    "        count = count + 1 \n",
    "print (\"Count of p in my_str is : \"+  str(count))"
   ]
  },
  {
   "cell_type": "code",
   "execution_count": 6,
   "metadata": {
    "id": "xvxSBhTJdav1"
   },
   "outputs": [
    {
     "name": "stdout",
     "output_type": "stream",
     "text": [
      "0\n",
      "6\n",
      "8\n",
      "12\n",
      "21\n",
      "29\n",
      "37\n",
      "39\n",
      "40\n"
     ]
    }
   ],
   "source": [
    "#Write a Python Program, to print all the indexes of all occurences of letter 'p' appeared in the string using loop:-\n",
    "    \n",
    "#Input:- 'peter piper picked a peck of pickled peppers.'\n",
    "#Output:- \n",
    "# 0\n",
    "# 6\n",
    "# 8\n",
    "# 12\n",
    "# 21\n",
    "# 29\n",
    "# 37\n",
    "# 39\n",
    "# 40\n",
    "\n",
    "my_str = 'peter piper picked a peck of pickled peppers.'\n",
    "s='p'\n",
    "for i in range(len(my_str)):\n",
    "    if (my_str[i] == s):\n",
    "        print(i)\n"
   ]
  },
  {
   "cell_type": "code",
   "execution_count": 8,
   "metadata": {
    "id": "79L_feMadbmw"
   },
   "outputs": [
    {
     "name": "stdout",
     "output_type": "stream",
     "text": [
      "['peter', 'piper', 'picked', 'a', 'peck', 'of', 'pickled', 'peppers.']\n",
      "--------\n",
      "\n",
      "['peter', 'piper', 'picked', 'a', 'peck', 'of', 'pickled', 'peppers']\n"
     ]
    }
   ],
   "source": [
    "#Write a python program to find below output using loop:-\n",
    "\n",
    "#Input:- 'peter piper picked a peck of pickled peppers.'\n",
    "#Output:- ['peter', 'piper', 'picked', 'a', 'peck', 'of', 'pickled', 'peppers']\n",
    "\n",
    "# Using .split()\n",
    "my_str = 'peter piper picked a peck of pickled peppers.'\n",
    "print(my_str.split())\n",
    "\n",
    "\n",
    "print('--------\\n')\n",
    "\n",
    "myStr = 'peter piper picked a peck of pickled peppers.'\n",
    "output = []\n",
    "\n",
    "start = 0\n",
    "for i in range(0, len(myStr)):\n",
    "    if(myStr[i]==\" \") or myStr[i]==\".\":\n",
    "        output.append(myStr[start:i])\n",
    "        start = i+1  \n",
    "print(output)\n"
   ]
  },
  {
   "cell_type": "code",
   "execution_count": 14,
   "metadata": {
    "id": "vzs5AJ53deVS"
   },
   "outputs": [
    {
     "name": "stdout",
     "output_type": "stream",
     "text": [
      "peppers pickled of peck a picked piper peter \n"
     ]
    }
   ],
   "source": [
    "#Write a python program to find below output using loop:-\n",
    "\n",
    "#Input:- 'peter piper picked a peck of pickled peppers.'\n",
    "#Output:- 'peppers pickled of peck a picked piper peter'\n",
    "\n",
    "\n",
    "myStr = 'peter piper picked a peck of pickled peppers.'\n",
    "output =''\n",
    "start = 0\n",
    "for i in range(0, len(myStr)):\n",
    "    if(myStr[i]==\" \"or my_str[i]==\".\"):\n",
    "        output = myStr[start:i] + \" \"+ output\n",
    "        start = i+1\n",
    "print(output)\n"
   ]
  },
  {
   "cell_type": "code",
   "execution_count": 27,
   "metadata": {
    "id": "i-HP7DrCdhwS"
   },
   "outputs": [
    {
     "name": "stdout",
     "output_type": "stream",
     "text": [
      "The original string is:  peter piper picked a peck of pickled peppers.\n",
      "The reverse string is: .sreppep delkcip fo kcep a dekcip repip retep\n"
     ]
    }
   ],
   "source": [
    "#Write a python program to find below output using loop:-\n",
    "\n",
    "#Input:- 'peter piper picked a peck of pickled peppers.'\n",
    "#Output:- '.sreppep delkcip fo kcep a dekcip repip retep'\n",
    "\n",
    "str = 'peter piper picked a peck of pickled peppers.'\n",
    "def reverse_string(str):  \n",
    "    str1 = \"\"   # Declaring empty string to store the reversed string  \n",
    "    for i in str:  \n",
    "        str1 = i + str1  \n",
    "    return str1    # It will return the reverse string to the caller function  \n",
    "                  \n",
    "print(\"The original string is: \",str)  \n",
    "print(\"The reverse string is:\",reverse_string(str))"
   ]
  },
  {
   "cell_type": "code",
   "execution_count": 32,
   "metadata": {
    "id": "3rt6p0ytdkq0"
   },
   "outputs": [
    {
     "name": "stdout",
     "output_type": "stream",
     "text": [
      "retep repip dekcip a kcep fo delkcip sreppep\n"
     ]
    }
   ],
   "source": [
    "#Write a python program to find below output using loop:-\n",
    "\n",
    "#Input:- 'peter piper picked a peck of pickled peppers.'\n",
    "#Output:- 'retep repip dekcip a kcep fo delkcip sreppep'\n",
    "\n",
    "my_str = 'peter piper picked a peck of pickled peppers'\n",
    "\n",
    "def reverseWordSentence(my_str):\n",
    "  \n",
    "    # Splitting the Sentence into list of words.\n",
    "    words = my_str.split(\" \")\n",
    "      \n",
    "    # Reversing each word and creating\n",
    "    # a new list of words\n",
    "    # List Comprehension Technique\n",
    "    newWords = [word[::-1] for word in words]\n",
    "      \n",
    "    # Joining the new list of words\n",
    "    # to for a new Sentence\n",
    "    newSentence = \" \".join(newWords)\n",
    "  \n",
    "    return newSentence\n",
    "  \n",
    "print(reverseWordSentence(my_str))\n",
    "\n",
    "\n",
    "\n",
    "\n",
    "##  2nd method\n",
    "myStr = 'peter piper picked a peck of pickled peppers.'\n",
    "output = ''\n",
    "reverseWord =''\n",
    "start=0\n",
    "for i in range(0,len(myStr)):\n",
    "    if(myStr[i]==\" \" or myStr[i]==\".\"):\n",
    "        word = myStr[start:i]\n",
    "        reverseWord = word[-1:-len(word)-1:-1] + \" \"\n",
    "        output +=reverseWord \n",
    "        start = i+1\n",
    "\n",
    "print(output)"
   ]
  },
  {
   "cell_type": "code",
   "execution_count": 37,
   "metadata": {
    "id": "HdlAWgT2dnKO"
   },
   "outputs": [
    {
     "name": "stdout",
     "output_type": "stream",
     "text": [
      "Peter Piper Picked A Peck Of Pickled Peppers.\n",
      "Peter Piper Picked A Peck Of Pickled Peppers.\n"
     ]
    }
   ],
   "source": [
    "#Write a python program to find below output using loop:-\n",
    "\n",
    "#Input:- 'peter piper picked a peck of pickled peppers.'\n",
    "#Output:- 'Peter Piper Picked A Peck Of Pickled Peppers'\n",
    "\n",
    "#using code\n",
    "my_str = 'peter piper picked a peck of pickled peppers.'\n",
    "output = my_str.title()\n",
    "print(output)\n",
    "\n",
    "#Using if else and def function using strip and capitalize function\n",
    "\n",
    "def capitalize_each_word(original_str):\n",
    "    result = \"\"\n",
    "    # Split the string and get all words in a list\n",
    "    list_of_words = original_str.split()\n",
    "    # Iterate over all elements in list\n",
    "    for elem in list_of_words:\n",
    "        # capitalize first letter of each word and add to a string\n",
    "        if len(result) > 0:\n",
    "            result = result + \" \" + elem.strip().capitalize()\n",
    "        else:\n",
    "            result = elem.capitalize()\n",
    "    # If result is still empty then return original string else returned capitalized.\n",
    "    if not result:\n",
    "        return original_str\n",
    "    else:\n",
    "        return result\n",
    "sample_text = 'peter piper picked a peck of pickled peppers.'\n",
    "result = capitalize_each_word(sample_text)\n",
    "print(result)\n",
    "\n",
    "\n",
    "\n",
    "#2nd method\n",
    "\n",
    "myStr = 'peter piper picked a peck of pickled peppers.'\n",
    "output =''\n",
    "start = 1\n",
    "for i in range(0, len(myStr)):\n",
    "    if(\" \" == myStr[i]):\n",
    "        output = output + myStr[start-1].upper() +myStr[start:i] + \" \"\n",
    "        start = i+2\n",
    "\n",
    "output = output + myStr[start-1].upper() +myStr[start:i]\n",
    "print(output)"
   ]
  },
  {
   "cell_type": "code",
   "execution_count": 16,
   "metadata": {
    "id": "OthUuacodrNl"
   },
   "outputs": [
    {
     "name": "stdout",
     "output_type": "stream",
     "text": [
      "Peter piper picked a peck of pickled peppers.\n",
      "Peter piper picked a peck of pickled peppers\n"
     ]
    }
   ],
   "source": [
    "#Write a python program to find below output using loop:-\n",
    "\n",
    "#Input:- 'Peter Piper Picked A Peck Of Pickled Peppers.'\n",
    "#Output:- 'Peter piper picked a peck of pickled peppers'\n",
    "\n",
    "# Using code .capitalize()\n",
    "\n",
    "my_str = 'Peter Piper Picked A Peck Of Pickled Peppers.'\n",
    "print(my_str.capitalize())\n",
    "\n",
    "\n",
    "#using loop\n",
    "\n",
    "myStr = 'peter piper picked a peck of pickled peppers.'\n",
    "output =''\n",
    "start = 0\n",
    "for i in range(0, len(myStr)):\n",
    "    if(\" \" == myStr[i]):\n",
    "        output = output + myStr[start:i] + \" \"\n",
    "        start = i+1\n",
    "output = output + myStr[start:i]\n",
    "output = output[0].upper() +output[1:]\n",
    "print(output)"
   ]
  },
  {
   "cell_type": "code",
   "execution_count": 17,
   "metadata": {
    "colab": {
     "base_uri": "https://localhost:8080/",
     "height": 34
    },
    "executionInfo": {
     "elapsed": 1314,
     "status": "ok",
     "timestamp": 1594480888924,
     "user": {
      "displayName": "Abhishek Gupta",
      "photoUrl": "",
      "userId": "01308143559053085164"
     },
     "user_tz": -330
    },
    "id": "scmDJE-ldsI9",
    "outputId": "4b1d1979-9f4a-4bc6-c505-b88b1bbd4d5d"
   },
   "outputs": [
    {
     "name": "stdout",
     "output_type": "stream",
     "text": [
      "29\n"
     ]
    }
   ],
   "source": [
    "#Write a python program to implement index method using loop. If sub_str is found in my_str then it will print the index\n",
    "# of first occurrence of first character of matching string in my_str:-\n",
    "\n",
    "#Input:- my_str = 'Peter Piper Picked A Peck Of Pickled Peppers.', sub_str = 'Pickl'\n",
    "#Output:- 29\n",
    "\n",
    "my_str ='Peter Piper Picked A Peck Of Pickled Peppers.'\n",
    "sub_str =\"Pickl\"\n",
    "\n",
    "for i in range(0,len(my_str)):\n",
    "    if my_str[i:i+len(sub_str)] == sub_str:\n",
    "        print(i)"
   ]
  },
  {
   "cell_type": "code",
   "execution_count": 54,
   "metadata": {
    "colab": {
     "base_uri": "https://localhost:8080/",
     "height": 51
    },
    "executionInfo": {
     "elapsed": 1258,
     "status": "ok",
     "timestamp": 1594481279384,
     "user": {
      "displayName": "Abhishek Gupta",
      "photoUrl": "",
      "userId": "01308143559053085164"
     },
     "user_tz": -330
    },
    "id": "Kq_fwdb_dvYE",
    "outputId": "c2bc60b2-dd25-4e8c-c3e5-1195848237b1"
   },
   "outputs": [
    {
     "name": "stdout",
     "output_type": "stream",
     "text": [
      "21\n",
      "Peter Piper Picked A Pack Of Pickled Peppers.\n"
     ]
    }
   ],
   "source": [
    "#Write a python program to implement replace method using loop. If sub_str is found in my_str then it will replace the first \n",
    "#occurrence of sub_str with new_str else it will will print sub_str not found:-\n",
    "\n",
    "#Input:- my_str = 'Peter Piper Picked A Peck Of Pickled Peppers.', sub_str = 'Peck', new_str = 'Pack'\n",
    "#Output:- 'Peter Piper Picked A Pack Of Pickled Peppers.'\n",
    "\n",
    "my_str = 'Peter Piper Picked A Peck Of Pickled Peppers.'\n",
    "sub_str = 'Peck'\n",
    "new_str1 = 'Pack'\n",
    "out_str = ''\n",
    "j = 0\n",
    "new_str = ''\n",
    "for i in range(len(my_str)):\n",
    "    if my_str[i] == sub_str[j]:\n",
    "        new_str += my_str[i]\n",
    "        j += 1\n",
    "        if len(new_str) == len(sub_str) and new_str == sub_str:\n",
    "            ind = i-(len(sub_str)-1)\n",
    "            print(ind)\n",
    "            out_str = my_str[:ind] + new_str1 + my_str[ind+(len(sub_str)):]\n",
    "            print(out_str)\n",
    "            break\n",
    "        elif len(new_str) == len(sub_str) and new_str != sub_str:\n",
    "            new_str = ''\n",
    "    elif i == (len(my_str)-1):\n",
    "        print('string not found!')\n",
    "    else:\n",
    "        new_str = ''\n",
    "        j = 0\n"
   ]
  },
  {
   "cell_type": "code",
   "execution_count": 62,
   "metadata": {
    "colab": {
     "base_uri": "https://localhost:8080/",
     "height": 34
    },
    "executionInfo": {
     "elapsed": 1246,
     "status": "ok",
     "timestamp": 1594480465305,
     "user": {
      "displayName": "Abhishek Gupta",
      "photoUrl": "",
      "userId": "01308143559053085164"
     },
     "user_tz": -330
    },
    "id": "4Qes5D0cdyd1",
    "outputId": "90f4843b-3d76-46de-b33f-51bc4501d39b"
   },
   "outputs": [
    {
     "name": "stdout",
     "output_type": "stream",
     "text": [
      "*********************Peck********************\n"
     ]
    }
   ],
   "source": [
    "#Write a python program to find below output (implements rjust and ljust) using loop:-\n",
    "\n",
    "#Input:- 'Peter Piper Picked A Peck Of Pickled Peppers.', sub_str = 'Peck', \n",
    "#Output:- '*********************Peck********************'\n",
    "\n",
    "my_str='Peter Piper Picked A Peck Of Pickled Peppers.'\n",
    "sub_str='Peck'\n",
    "out_str=''\n",
    "i=0\n",
    "while i in range(0,len(my_str),1):\n",
    "    if my_str[i:(i+len(sub_str)):1]==sub_str:\n",
    "        out_str=out_str+sub_str\n",
    "        i = i+(len(sub_str)-1)\n",
    "    else:\n",
    "        out_str=out_str+'*'\n",
    "    i=i+1\n",
    "print(out_str)\n",
    "\n"
   ]
  },
  {
   "cell_type": "code",
   "execution_count": 19,
   "metadata": {
    "colab": {
     "base_uri": "https://localhost:8080/"
    },
    "executionInfo": {
     "elapsed": 2745,
     "status": "ok",
     "timestamp": 1606579899107,
     "user": {
      "displayName": "Abhishek Gupta",
      "photoUrl": "",
      "userId": "01308143559053085164"
     },
     "user_tz": -330
    },
    "id": "DsOrb07Od0lR",
    "outputId": "44bba98d-40ac-42aa-ee9a-968d0d15cbb2"
   },
   "outputs": [
    {
     "name": "stdout",
     "output_type": "stream",
     "text": [
      "['This ', 'is', ' Python class']\n"
     ]
    }
   ],
   "source": [
    "#Write a python program to find below output using loop:-\n",
    "\n",
    "#Input:- 'This is Python class', sep = 'is', \n",
    "#Output:- ['This', 'is', 'Python class']\n",
    "\n",
    "\n",
    "inp_str='This is Python class'\n",
    "sep='is'\n",
    "out_str=''\n",
    "l_str=''\n",
    "r_str=''\n",
    "length=0\n",
    "out_lst=[]\n",
    "for letter in inp_str:\n",
    "    length+=1\n",
    "    out_str += letter\n",
    "    if sep in out_str:\n",
    "        l_str=inp_str[:length-len(sep):]\n",
    "        r_str=inp_str[length::]\n",
    "        out_str=''\n",
    "out_lst.append(l_str)\n",
    "out_lst.append(sep)\n",
    "out_lst.append(r_str)\n",
    "print(out_lst)\n",
    "\n",
    "# my_str='This is Python Class '\n",
    "# my_str1 =''\n",
    "# my_str2 =''\n",
    "# my_lst =[]\n",
    "# sep = 'is'\n",
    "# x=0\n",
    "# for i in my_str:\n",
    "    \n",
    "#     if i !=' ':\n",
    "#         my_str1 += i    \n",
    "#     else:\n",
    "#         if sep not in my_lst:\n",
    "#             my_lst += [my_str1]\n",
    "#             my_str1 = ''\n",
    "#         else:\n",
    "#             my_str1=my_str1 + ' '\n",
    "# my_lst += [my_str1.strip()]\n",
    "# print(my_lst)\n",
    "\n",
    "\n",
    "\n",
    "\n",
    "# my_str='This is Python class'\n",
    "# sep_str=' is'\n",
    "# out_str=''\n",
    "# out_lst=[]\n",
    "# i=0\n",
    "# x=True\n",
    "# # print(my_str.partition(' is '))\n",
    "# while i in range(0,(len(my_str)),1):\n",
    "#     if my_str[i]==' ' and x==True and i<=(len(my_str)):\n",
    "#         out_lst.append(out_str)\n",
    "#         out_str=''\n",
    "#     if my_str[i:(i+len(sep_str)):1]==sep_str:  \n",
    "#             out_lst.append(sep_str)\n",
    "#             out_str=''  \n",
    "#             i = i+(len(sep_str))\n",
    "#             x=False\n",
    "#     if i ==(len(my_str)):\n",
    "#         out_lst.append(out_str)\n",
    "#     else: \n",
    "#         out_str=out_str+my_str[i]    \n",
    "#     i=i+1\n",
    "# out_lst.append(out_str)\n",
    "# print(out_lst) "
   ]
  }
 ],
 "metadata": {
  "colab": {
   "authorship_tag": "ABX9TyNuzhkW8gC1xvNo6YMt3rlP",
   "collapsed_sections": [],
   "name": "solution of Conditional_and_loop_assignment.ipynb",
   "provenance": [
    {
     "file_id": "18jvHbu1SvTgDGxU-uNloDb4lsxEE4EmO",
     "timestamp": 1596609197199
    }
   ]
  },
  "kernelspec": {
   "display_name": "Python 3 (ipykernel)",
   "language": "python",
   "name": "python3"
  },
  "language_info": {
   "codemirror_mode": {
    "name": "ipython",
    "version": 3
   },
   "file_extension": ".py",
   "mimetype": "text/x-python",
   "name": "python",
   "nbconvert_exporter": "python",
   "pygments_lexer": "ipython3",
   "version": "3.11.7"
  }
 },
 "nbformat": 4,
 "nbformat_minor": 4
}
